{
 "cells": [
  {
   "cell_type": "markdown",
   "id": "70c55f60",
   "metadata": {},
   "source": [
    "### MI using SKLearn"
   ]
  },
  {
   "cell_type": "markdown",
   "id": "e782d498",
   "metadata": {},
   "source": [
    "## TODO\n",
    "\n",
    "- how much does the sklearn differ from the truth with diff nos of bins and diff no of samples? The results completely differ!\n",
    "- if the vals differe does the relative order change? There is no relation between the relative order between histogram approximation and RBIG.\n",
    "- does it impact the conclusion eg. XA > XY in sklearn does RBIG gives out similar result? NO\n"
   ]
  },
  {
   "cell_type": "code",
   "execution_count": 29,
   "id": "f97a80ca",
   "metadata": {},
   "outputs": [],
   "source": [
    "import pandas as pd\n",
    "import itertools\n",
    "import os\n",
    "from datetime import datetime\n",
    "import pandas as pd\n",
    "from sklearn.metrics import mutual_info_score\n",
    "from sklearn.preprocessing import OrdinalEncoder\n",
    "from tqdm import tqdm \n",
    "import itertools as itert\n",
    "import numpy as np\n",
    "from batch_run_task_fairness import *"
   ]
  },
  {
   "cell_type": "code",
   "execution_count": 30,
   "id": "17bb39d1",
   "metadata": {},
   "outputs": [],
   "source": [
    "adult_dataset = pd.read_csv('adult_dataset.csv')\n",
    "adult_dataset.drop('Unnamed: 0', axis = 1, inplace = True)"
   ]
  },
  {
   "cell_type": "code",
   "execution_count": 31,
   "id": "4032c855",
   "metadata": {},
   "outputs": [
    {
     "data": {
      "text/plain": [
       "Index(['age', 'education-num', 'sex', 'capital-gain', 'capital-loss',\n",
       "       'hours-per-week', 'income-per-year', 'education', 'marital-status',\n",
       "       'native-country', 'occupation', 'race', 'relationship', 'workclass'],\n",
       "      dtype='object')"
      ]
     },
     "execution_count": 31,
     "metadata": {},
     "output_type": "execute_result"
    }
   ],
   "source": [
    "adult_dataset.columns\n"
   ]
  },
  {
   "cell_type": "code",
   "execution_count": 32,
   "id": "6b2b8dd9",
   "metadata": {},
   "outputs": [],
   "source": [
    "features_num = ['hours-per-week', 'capital-gain', 'capital-loss'] # removed education-num\n",
    "features_cat =  ['workclass','education', 'relationship', 'occupation'] #removed native-country\n",
    "protected_attributes = ['sex','race','age', 'marital-status']\n",
    "target = 'income-per-year'"
   ]
  },
  {
   "cell_type": "code",
   "execution_count": 33,
   "id": "0afe0ebb",
   "metadata": {},
   "outputs": [
    {
     "data": {
      "text/plain": [
       "sex                2\n",
       "race               5\n",
       "age               74\n",
       "marital-status     7\n",
       "dtype: int64"
      ]
     },
     "execution_count": 33,
     "metadata": {},
     "output_type": "execute_result"
    }
   ],
   "source": [
    "adult_dataset[protected_attributes].nunique()"
   ]
  },
  {
   "cell_type": "code",
   "execution_count": 34,
   "id": "2cecb13d",
   "metadata": {},
   "outputs": [
    {
     "data": {
      "text/plain": [
       "90.0"
      ]
     },
     "execution_count": 34,
     "metadata": {},
     "output_type": "execute_result"
    }
   ],
   "source": [
    "max(adult_dataset['age'])"
   ]
  },
  {
   "cell_type": "code",
   "execution_count": 35,
   "id": "9c672126",
   "metadata": {},
   "outputs": [
    {
     "data": {
      "text/plain": [
       "17.0"
      ]
     },
     "execution_count": 35,
     "metadata": {},
     "output_type": "execute_result"
    }
   ],
   "source": [
    "min(adult_dataset['age'])"
   ]
  },
  {
   "cell_type": "code",
   "execution_count": 37,
   "id": "ed8972b8",
   "metadata": {},
   "outputs": [
    {
     "data": {
      "text/html": [
       "<div>\n",
       "<style scoped>\n",
       "    .dataframe tbody tr th:only-of-type {\n",
       "        vertical-align: middle;\n",
       "    }\n",
       "\n",
       "    .dataframe tbody tr th {\n",
       "        vertical-align: top;\n",
       "    }\n",
       "\n",
       "    .dataframe thead th {\n",
       "        text-align: right;\n",
       "    }\n",
       "</style>\n",
       "<table border=\"1\" class=\"dataframe\">\n",
       "  <thead>\n",
       "    <tr style=\"text-align: right;\">\n",
       "      <th></th>\n",
       "      <th>age</th>\n",
       "      <th>education-num</th>\n",
       "      <th>sex</th>\n",
       "      <th>capital-gain</th>\n",
       "      <th>capital-loss</th>\n",
       "      <th>hours-per-week</th>\n",
       "      <th>income-per-year</th>\n",
       "      <th>education</th>\n",
       "      <th>marital-status</th>\n",
       "      <th>native-country</th>\n",
       "      <th>occupation</th>\n",
       "      <th>race</th>\n",
       "      <th>relationship</th>\n",
       "      <th>workclass</th>\n",
       "      <th>age_bins</th>\n",
       "    </tr>\n",
       "  </thead>\n",
       "  <tbody>\n",
       "    <tr>\n",
       "      <th>0</th>\n",
       "      <td>25.0</td>\n",
       "      <td>7.0</td>\n",
       "      <td>1.0</td>\n",
       "      <td>0.0</td>\n",
       "      <td>0.0</td>\n",
       "      <td>40.0</td>\n",
       "      <td>0.0</td>\n",
       "      <td>11th</td>\n",
       "      <td>Never-married</td>\n",
       "      <td>United-States</td>\n",
       "      <td>Machine-op-inspct</td>\n",
       "      <td>Black</td>\n",
       "      <td>Own-child</td>\n",
       "      <td>Private</td>\n",
       "      <td>21 to 40</td>\n",
       "    </tr>\n",
       "    <tr>\n",
       "      <th>1</th>\n",
       "      <td>38.0</td>\n",
       "      <td>9.0</td>\n",
       "      <td>1.0</td>\n",
       "      <td>0.0</td>\n",
       "      <td>0.0</td>\n",
       "      <td>50.0</td>\n",
       "      <td>0.0</td>\n",
       "      <td>HS-grad</td>\n",
       "      <td>Married-civ-spouse</td>\n",
       "      <td>United-States</td>\n",
       "      <td>Farming-fishing</td>\n",
       "      <td>White</td>\n",
       "      <td>Husband</td>\n",
       "      <td>Private</td>\n",
       "      <td>21 to 40</td>\n",
       "    </tr>\n",
       "    <tr>\n",
       "      <th>2</th>\n",
       "      <td>28.0</td>\n",
       "      <td>12.0</td>\n",
       "      <td>1.0</td>\n",
       "      <td>0.0</td>\n",
       "      <td>0.0</td>\n",
       "      <td>40.0</td>\n",
       "      <td>1.0</td>\n",
       "      <td>Assoc-acdm</td>\n",
       "      <td>Married-civ-spouse</td>\n",
       "      <td>United-States</td>\n",
       "      <td>Protective-serv</td>\n",
       "      <td>White</td>\n",
       "      <td>Husband</td>\n",
       "      <td>Local-gov</td>\n",
       "      <td>21 to 40</td>\n",
       "    </tr>\n",
       "    <tr>\n",
       "      <th>3</th>\n",
       "      <td>44.0</td>\n",
       "      <td>10.0</td>\n",
       "      <td>1.0</td>\n",
       "      <td>7688.0</td>\n",
       "      <td>0.0</td>\n",
       "      <td>40.0</td>\n",
       "      <td>1.0</td>\n",
       "      <td>Some-college</td>\n",
       "      <td>Married-civ-spouse</td>\n",
       "      <td>United-States</td>\n",
       "      <td>Machine-op-inspct</td>\n",
       "      <td>Black</td>\n",
       "      <td>Husband</td>\n",
       "      <td>Private</td>\n",
       "      <td>41 to 60</td>\n",
       "    </tr>\n",
       "    <tr>\n",
       "      <th>4</th>\n",
       "      <td>34.0</td>\n",
       "      <td>6.0</td>\n",
       "      <td>1.0</td>\n",
       "      <td>0.0</td>\n",
       "      <td>0.0</td>\n",
       "      <td>30.0</td>\n",
       "      <td>0.0</td>\n",
       "      <td>10th</td>\n",
       "      <td>Never-married</td>\n",
       "      <td>United-States</td>\n",
       "      <td>Other-service</td>\n",
       "      <td>White</td>\n",
       "      <td>Not-in-family</td>\n",
       "      <td>Private</td>\n",
       "      <td>21 to 40</td>\n",
       "    </tr>\n",
       "  </tbody>\n",
       "</table>\n",
       "</div>"
      ],
      "text/plain": [
       "    age  education-num  sex  capital-gain  capital-loss  hours-per-week  \\\n",
       "0  25.0            7.0  1.0           0.0           0.0            40.0   \n",
       "1  38.0            9.0  1.0           0.0           0.0            50.0   \n",
       "2  28.0           12.0  1.0           0.0           0.0            40.0   \n",
       "3  44.0           10.0  1.0        7688.0           0.0            40.0   \n",
       "4  34.0            6.0  1.0           0.0           0.0            30.0   \n",
       "\n",
       "   income-per-year     education      marital-status native-country  \\\n",
       "0              0.0          11th       Never-married  United-States   \n",
       "1              0.0       HS-grad  Married-civ-spouse  United-States   \n",
       "2              1.0    Assoc-acdm  Married-civ-spouse  United-States   \n",
       "3              1.0  Some-college  Married-civ-spouse  United-States   \n",
       "4              0.0          10th       Never-married  United-States   \n",
       "\n",
       "          occupation   race   relationship  workclass  age_bins  \n",
       "0  Machine-op-inspct  Black      Own-child    Private  21 to 40  \n",
       "1    Farming-fishing  White        Husband    Private  21 to 40  \n",
       "2    Protective-serv  White        Husband  Local-gov  21 to 40  \n",
       "3  Machine-op-inspct  Black        Husband    Private  41 to 60  \n",
       "4      Other-service  White  Not-in-family    Private  21 to 40  "
      ]
     },
     "execution_count": 37,
     "metadata": {},
     "output_type": "execute_result"
    }
   ],
   "source": [
    "adult_dataset['age_bins'] = pd.cut(adult_dataset['age'], bins=[1, 20, 40, 60, 80, 100],\n",
    "                    labels=['1 to 20', '21 to 40', '41 to 60',\n",
    "                            '61 to 80', '81 to 100'])\n",
    "adult_dataset.head()"
   ]
  },
  {
   "cell_type": "code",
   "execution_count": 38,
   "id": "bbdac43c",
   "metadata": {},
   "outputs": [],
   "source": [
    "cat = ['workclass','education', 'relationship', 'occupation']#removed native-country\n",
    "num = ['hours-per-week','capital-gain','capital-loss']# removed education-num\n",
    "protected_attributes =  ['sex','race','age_bins', 'marital-status']\n",
    "target = 'income-per-year'"
   ]
  },
  {
   "cell_type": "code",
   "execution_count": 39,
   "id": "d7c646cd",
   "metadata": {},
   "outputs": [
    {
     "data": {
      "text/plain": [
       "sex               2\n",
       "race              5\n",
       "age_bins          5\n",
       "marital-status    7\n",
       "dtype: int64"
      ]
     },
     "execution_count": 39,
     "metadata": {},
     "output_type": "execute_result"
    }
   ],
   "source": [
    "adult_dataset[protected_attributes].nunique()"
   ]
  },
  {
   "cell_type": "code",
   "execution_count": 40,
   "id": "e178ca7a",
   "metadata": {},
   "outputs": [
    {
     "data": {
      "text/plain": [
       "workclass        7\n",
       "education       16\n",
       "relationship     6\n",
       "occupation      14\n",
       "dtype: int64"
      ]
     },
     "execution_count": 40,
     "metadata": {},
     "output_type": "execute_result"
    }
   ],
   "source": [
    "adult_dataset[cat].nunique()"
   ]
  },
  {
   "cell_type": "code",
   "execution_count": 41,
   "id": "a9ae947e",
   "metadata": {},
   "outputs": [
    {
     "data": {
      "text/plain": [
       "hours-per-week     96\n",
       "capital-gain      121\n",
       "capital-loss       97\n",
       "dtype: int64"
      ]
     },
     "execution_count": 41,
     "metadata": {},
     "output_type": "execute_result"
    }
   ],
   "source": [
    "adult_dataset[num].nunique()"
   ]
  },
  {
   "cell_type": "code",
   "execution_count": 42,
   "id": "827dea2f",
   "metadata": {},
   "outputs": [
    {
     "data": {
      "text/plain": [
       "income-per-year    2\n",
       "dtype: int64"
      ]
     },
     "execution_count": 42,
     "metadata": {},
     "output_type": "execute_result"
    }
   ],
   "source": [
    "adult_dataset[[target]].nunique()"
   ]
  },
  {
   "cell_type": "code",
   "execution_count": 43,
   "id": "06085d8e",
   "metadata": {},
   "outputs": [],
   "source": [
    "bins_cat = [7,16,6,14] #bins on the basis of unique values \n",
    "bins_num = [8,12,8]\n",
    "target_bins = 2\n",
    "protected_att_bins = [2,5,5,7]\n",
    "version = 'mi_sklearn_04292022'"
   ]
  },
  {
   "cell_type": "code",
   "execution_count": 44,
   "id": "2b9e9852",
   "metadata": {},
   "outputs": [
    {
     "name": "stderr",
     "output_type": "stream",
     "text": [
      "2it [00:00,  3.28it/s]\n",
      "5it [00:01,  2.98it/s]\n",
      "5it [00:01,  2.89it/s]\n",
      "7it [00:02,  2.94it/s]\n",
      "2it [00:00,  3.49it/s]\n",
      "2it [00:01,  1.75it/s]\n",
      "2it [00:01,  1.73it/s]\n",
      "2it [00:01,  1.21it/s]\n"
     ]
    }
   ],
   "source": [
    "mi_xy_xa_hist_df = main(adult_dataset.copy(),cat,num,protected_attributes, target, bins_cat, bins_num , target_bins, protected_att_bins, version)\n"
   ]
  },
  {
   "cell_type": "code",
   "execution_count": 46,
   "id": "4d20868a",
   "metadata": {},
   "outputs": [
    {
     "data": {
      "text/html": [
       "<div>\n",
       "<style scoped>\n",
       "    .dataframe tbody tr th:only-of-type {\n",
       "        vertical-align: middle;\n",
       "    }\n",
       "\n",
       "    .dataframe tbody tr th {\n",
       "        vertical-align: top;\n",
       "    }\n",
       "\n",
       "    .dataframe thead th {\n",
       "        text-align: right;\n",
       "    }\n",
       "</style>\n",
       "<table border=\"1\" class=\"dataframe\">\n",
       "  <thead>\n",
       "    <tr style=\"text-align: right;\">\n",
       "      <th></th>\n",
       "      <th>A</th>\n",
       "      <th>I(X,A)</th>\n",
       "      <th>I(X,Y)</th>\n",
       "    </tr>\n",
       "  </thead>\n",
       "  <tbody>\n",
       "    <tr>\n",
       "      <th>0</th>\n",
       "      <td>sex</td>\n",
       "      <td>0.397488</td>\n",
       "      <td>0.290872</td>\n",
       "    </tr>\n",
       "    <tr>\n",
       "      <th>4</th>\n",
       "      <td>race</td>\n",
       "      <td>0.179103</td>\n",
       "      <td>0.290872</td>\n",
       "    </tr>\n",
       "    <tr>\n",
       "      <th>14</th>\n",
       "      <td>age_bins</td>\n",
       "      <td>0.413741</td>\n",
       "      <td>0.290872</td>\n",
       "    </tr>\n",
       "    <tr>\n",
       "      <th>24</th>\n",
       "      <td>marital-status</td>\n",
       "      <td>0.891120</td>\n",
       "      <td>0.290872</td>\n",
       "    </tr>\n",
       "  </tbody>\n",
       "</table>\n",
       "</div>"
      ],
      "text/plain": [
       "                 A    I(X,A)    I(X,Y)\n",
       "0              sex  0.397488  0.290872\n",
       "4             race  0.179103  0.290872\n",
       "14        age_bins  0.413741  0.290872\n",
       "24  marital-status  0.891120  0.290872"
      ]
     },
     "execution_count": 46,
     "metadata": {},
     "output_type": "execute_result"
    }
   ],
   "source": [
    "mi_xy_xa_hist = mi_xy_xa_hist_df[['A','I(X,A)','I(X,Y)']]\n",
    "mi_xy_xa_hist = mi_xy_xa_hist.drop_duplicates(subset =[\"A\"],keep='first')\n",
    "mi_xy_xa_hist"
   ]
  },
  {
   "cell_type": "code",
   "execution_count": 77,
   "id": "e0a49ad9",
   "metadata": {},
   "outputs": [
    {
     "data": {
      "text/html": [
       "<div>\n",
       "<style scoped>\n",
       "    .dataframe tbody tr th:only-of-type {\n",
       "        vertical-align: middle;\n",
       "    }\n",
       "\n",
       "    .dataframe tbody tr th {\n",
       "        vertical-align: top;\n",
       "    }\n",
       "\n",
       "    .dataframe thead th {\n",
       "        text-align: right;\n",
       "    }\n",
       "</style>\n",
       "<table border=\"1\" class=\"dataframe\">\n",
       "  <thead>\n",
       "    <tr style=\"text-align: right;\">\n",
       "      <th></th>\n",
       "      <th>A</th>\n",
       "      <th>I(X,A)_hist</th>\n",
       "      <th>I(X,Y)_hist</th>\n",
       "    </tr>\n",
       "  </thead>\n",
       "  <tbody>\n",
       "    <tr>\n",
       "      <th>0</th>\n",
       "      <td>sex</td>\n",
       "      <td>0.397488</td>\n",
       "      <td>0.290872</td>\n",
       "    </tr>\n",
       "    <tr>\n",
       "      <th>4</th>\n",
       "      <td>race</td>\n",
       "      <td>0.179103</td>\n",
       "      <td>0.290872</td>\n",
       "    </tr>\n",
       "    <tr>\n",
       "      <th>14</th>\n",
       "      <td>age</td>\n",
       "      <td>0.413741</td>\n",
       "      <td>0.290872</td>\n",
       "    </tr>\n",
       "    <tr>\n",
       "      <th>24</th>\n",
       "      <td>marital-status</td>\n",
       "      <td>0.891120</td>\n",
       "      <td>0.290872</td>\n",
       "    </tr>\n",
       "  </tbody>\n",
       "</table>\n",
       "</div>"
      ],
      "text/plain": [
       "                 A  I(X,A)_hist  I(X,Y)_hist\n",
       "0              sex     0.397488     0.290872\n",
       "4             race     0.179103     0.290872\n",
       "14             age     0.413741     0.290872\n",
       "24  marital-status     0.891120     0.290872"
      ]
     },
     "execution_count": 77,
     "metadata": {},
     "output_type": "execute_result"
    }
   ],
   "source": [
    "mi_xy_xa_hist['A'] = mi_xy_xa_hist['A'].str.replace('age_bins', 'age')\n",
    "\n",
    "mi_xy_xa_hist.columns = ['A','I(X,A)_hist','I(X,Y)_hist']\n",
    "mi_xy_xa_hist\n"
   ]
  },
  {
   "cell_type": "markdown",
   "id": "4eaad483",
   "metadata": {},
   "source": [
    "### MI using RBIG"
   ]
  },
  {
   "cell_type": "code",
   "execution_count": 106,
   "id": "24d4ebf4",
   "metadata": {},
   "outputs": [],
   "source": [
    "import numpy as np\n",
    "import pandas as pd\n",
    "from sklearn.preprocessing import OrdinalEncoder\n",
    "from sklearn.utils import check_random_state\n",
    "from mutual_info import MutualInfoRBIG\n",
    "from sklearn.metrics import mutual_info_score"
   ]
  },
  {
   "cell_type": "code",
   "execution_count": 107,
   "id": "e2e56ba4",
   "metadata": {},
   "outputs": [],
   "source": [
    "adult_dataset = pd.read_csv('adult_dataset.csv')\n",
    "adult_dataset.drop('Unnamed: 0', axis = 1, inplace = True)"
   ]
  },
  {
   "cell_type": "code",
   "execution_count": 108,
   "id": "3515b48a",
   "metadata": {},
   "outputs": [
    {
     "data": {
      "text/plain": [
       "Index(['age', 'education-num', 'sex', 'capital-gain', 'capital-loss',\n",
       "       'hours-per-week', 'income-per-year', 'education', 'marital-status',\n",
       "       'native-country', 'occupation', 'race', 'relationship', 'workclass'],\n",
       "      dtype='object')"
      ]
     },
     "execution_count": 108,
     "metadata": {},
     "output_type": "execute_result"
    }
   ],
   "source": [
    "adult_dataset.columns"
   ]
  },
  {
   "cell_type": "code",
   "execution_count": 109,
   "id": "118b69ff",
   "metadata": {},
   "outputs": [],
   "source": [
    "#encoding the categorical columns, OrdinalEncoder - each unique category value is assigned an integer value\n",
    "def categorical_feature_encoder(data,features):\n",
    "    enc = {}\n",
    "    \n",
    "    for f in features:\n",
    "        encoder = OrdinalEncoder()\n",
    "        data[f] = encoder.fit_transform(data[[f]]).astype(int)\n",
    "        enc[f] = encoder\n",
    "    return data, enc"
   ]
  },
  {
   "cell_type": "code",
   "execution_count": 110,
   "id": "96a0d8b7",
   "metadata": {},
   "outputs": [],
   "source": [
    "features = ['sex','education', 'marital-status','occupation', 'race', 'relationship', 'workclass']\n",
    "features_encoded_data,enc = categorical_feature_encoder(adult_dataset,features)\n"
   ]
  },
  {
   "cell_type": "code",
   "execution_count": 111,
   "id": "13ffb1d3",
   "metadata": {},
   "outputs": [
    {
     "data": {
      "text/html": [
       "<div>\n",
       "<style scoped>\n",
       "    .dataframe tbody tr th:only-of-type {\n",
       "        vertical-align: middle;\n",
       "    }\n",
       "\n",
       "    .dataframe tbody tr th {\n",
       "        vertical-align: top;\n",
       "    }\n",
       "\n",
       "    .dataframe thead th {\n",
       "        text-align: right;\n",
       "    }\n",
       "</style>\n",
       "<table border=\"1\" class=\"dataframe\">\n",
       "  <thead>\n",
       "    <tr style=\"text-align: right;\">\n",
       "      <th></th>\n",
       "      <th>age</th>\n",
       "      <th>sex</th>\n",
       "      <th>capital-gain</th>\n",
       "      <th>capital-loss</th>\n",
       "      <th>hours-per-week</th>\n",
       "      <th>income-per-year</th>\n",
       "      <th>education</th>\n",
       "      <th>marital-status</th>\n",
       "      <th>occupation</th>\n",
       "      <th>race</th>\n",
       "      <th>relationship</th>\n",
       "      <th>workclass</th>\n",
       "    </tr>\n",
       "  </thead>\n",
       "  <tbody>\n",
       "    <tr>\n",
       "      <th>0</th>\n",
       "      <td>25.0</td>\n",
       "      <td>1</td>\n",
       "      <td>0.0</td>\n",
       "      <td>0.0</td>\n",
       "      <td>40.0</td>\n",
       "      <td>0.0</td>\n",
       "      <td>1</td>\n",
       "      <td>4</td>\n",
       "      <td>6</td>\n",
       "      <td>2</td>\n",
       "      <td>3</td>\n",
       "      <td>2</td>\n",
       "    </tr>\n",
       "    <tr>\n",
       "      <th>1</th>\n",
       "      <td>38.0</td>\n",
       "      <td>1</td>\n",
       "      <td>0.0</td>\n",
       "      <td>0.0</td>\n",
       "      <td>50.0</td>\n",
       "      <td>0.0</td>\n",
       "      <td>11</td>\n",
       "      <td>2</td>\n",
       "      <td>4</td>\n",
       "      <td>4</td>\n",
       "      <td>0</td>\n",
       "      <td>2</td>\n",
       "    </tr>\n",
       "    <tr>\n",
       "      <th>2</th>\n",
       "      <td>28.0</td>\n",
       "      <td>1</td>\n",
       "      <td>0.0</td>\n",
       "      <td>0.0</td>\n",
       "      <td>40.0</td>\n",
       "      <td>1.0</td>\n",
       "      <td>7</td>\n",
       "      <td>2</td>\n",
       "      <td>10</td>\n",
       "      <td>4</td>\n",
       "      <td>0</td>\n",
       "      <td>1</td>\n",
       "    </tr>\n",
       "    <tr>\n",
       "      <th>3</th>\n",
       "      <td>44.0</td>\n",
       "      <td>1</td>\n",
       "      <td>7688.0</td>\n",
       "      <td>0.0</td>\n",
       "      <td>40.0</td>\n",
       "      <td>1.0</td>\n",
       "      <td>15</td>\n",
       "      <td>2</td>\n",
       "      <td>6</td>\n",
       "      <td>2</td>\n",
       "      <td>0</td>\n",
       "      <td>2</td>\n",
       "    </tr>\n",
       "    <tr>\n",
       "      <th>4</th>\n",
       "      <td>34.0</td>\n",
       "      <td>1</td>\n",
       "      <td>0.0</td>\n",
       "      <td>0.0</td>\n",
       "      <td>30.0</td>\n",
       "      <td>0.0</td>\n",
       "      <td>0</td>\n",
       "      <td>4</td>\n",
       "      <td>7</td>\n",
       "      <td>4</td>\n",
       "      <td>1</td>\n",
       "      <td>2</td>\n",
       "    </tr>\n",
       "  </tbody>\n",
       "</table>\n",
       "</div>"
      ],
      "text/plain": [
       "    age  sex  capital-gain  capital-loss  hours-per-week  income-per-year  \\\n",
       "0  25.0    1           0.0           0.0            40.0              0.0   \n",
       "1  38.0    1           0.0           0.0            50.0              0.0   \n",
       "2  28.0    1           0.0           0.0            40.0              1.0   \n",
       "3  44.0    1        7688.0           0.0            40.0              1.0   \n",
       "4  34.0    1           0.0           0.0            30.0              0.0   \n",
       "\n",
       "   education  marital-status  occupation  race  relationship  workclass  \n",
       "0          1               4           6     2             3          2  \n",
       "1         11               2           4     4             0          2  \n",
       "2          7               2          10     4             0          1  \n",
       "3         15               2           6     2             0          2  \n",
       "4          0               4           7     4             1          2  "
      ]
     },
     "execution_count": 111,
     "metadata": {},
     "output_type": "execute_result"
    }
   ],
   "source": [
    "#dropped the columns as the histogram approach did not consider both columns\n",
    "features_encoded_data.drop('native-country', axis = 1, inplace = True)\n",
    "features_encoded_data.drop('education-num', axis = 1, inplace = True)\n",
    "features_encoded_data.head()\n"
   ]
  },
  {
   "cell_type": "code",
   "execution_count": 112,
   "id": "09c35318",
   "metadata": {},
   "outputs": [],
   "source": [
    "X = ['capital-gain', 'capital-loss','hours-per-week', 'education','occupation', \n",
    "     'relationship', 'workclass']\n",
    "Y = ['income-per-year']\n"
   ]
  },
  {
   "cell_type": "code",
   "execution_count": 113,
   "id": "7a084a0f",
   "metadata": {},
   "outputs": [],
   "source": [
    "def calculate_mi_RBIG(data,X,Y):\n",
    "\n",
    "    # Initialize RBIG class\n",
    "    rbig_model = MutualInfoRBIG(max_layers=1000, rotation= \"PCA\",zero_tolerance = 40)\n",
    "\n",
    "    # fit model to the data\n",
    "    rbig_model.fit(data[X], data[Y]);\n",
    "\n",
    "    H_rbig = rbig_model.mutual_info()\n",
    "    \n",
    "    return H_rbig\n"
   ]
  },
  {
   "cell_type": "code",
   "execution_count": 114,
   "id": "98982668",
   "metadata": {},
   "outputs": [
    {
     "name": "stderr",
     "output_type": "stream",
     "text": [
      "Info Red: 9.79e-03: 100%|███████████████████| 1000/1000 [01:41<00:00,  9.90it/s]\n",
      "Completed! (Total Info Red: 1.3434):   4%|▏   | 41/1000 [00:00<00:13, 73.70it/s]\n",
      "Info Red: 0.00e+00: 100%|███████████████████| 1000/1000 [01:55<00:00,  8.63it/s]\n"
     ]
    },
    {
     "data": {
      "text/plain": [
       "4.470253284179309"
      ]
     },
     "execution_count": 114,
     "metadata": {},
     "output_type": "execute_result"
    }
   ],
   "source": [
    "rbig_mi_xy = calculate_mi_RBIG(features_encoded_data,X,Y)\n",
    "rbig_mi_xy"
   ]
  },
  {
   "cell_type": "code",
   "execution_count": 115,
   "id": "9ca83522",
   "metadata": {},
   "outputs": [],
   "source": [
    "X = ['hours-per-week', 'capital-gain', 'capital-loss','workclass','education', 'relationship', 'occupation'] \n",
    "A = ['sex','race','age', 'marital-status']\n"
   ]
  },
  {
   "cell_type": "code",
   "execution_count": 116,
   "id": "89536edd",
   "metadata": {},
   "outputs": [],
   "source": [
    "def calculate_miscore_xa(data,X,A):\n",
    "    mis_xa = []\n",
    "    p_attribute = []\n",
    "    for a in A:\n",
    "        rbig_model = MutualInfoRBIG(max_layers = 1000,rotation= \"PCA\",zero_tolerance = 40)\n",
    "        rbig_model.fit(data[X], data[[a]]);\n",
    "        mi_rbig = rbig_model.mutual_info()\n",
    "        mis_xa.append(mi_rbig)\n",
    "        p_attribute.append(a)  \n",
    "    mis_xa_adult_dataFrame = pd.DataFrame({'A':p_attribute, 'I(Xi,A)': mis_xa})\n",
    "    return mis_xa_adult_dataFrame\n"
   ]
  },
  {
   "cell_type": "code",
   "execution_count": 117,
   "id": "5c0140a9",
   "metadata": {},
   "outputs": [
    {
     "name": "stderr",
     "output_type": "stream",
     "text": [
      "Info Red: 0.00e+00: 100%|███████████████████| 1000/1000 [01:40<00:00,  9.94it/s]\n",
      "Info Red: 2.26e+00:   0%|                              | 0/1000 [00:00<?, ?it/s]/Users/surbhirathore/.local/lib/python3.7/site-packages/sklearn/decomposition/_pca.py:501: RuntimeWarning: invalid value encountered in true_divide\n",
      "  explained_variance_ratio_ = explained_variance_ / total_var\n",
      "Info Red: 0.00e+00:   0%|                              | 0/1000 [00:00<?, ?it/s]/Users/surbhirathore/.local/lib/python3.7/site-packages/sklearn/decomposition/_pca.py:501: RuntimeWarning: invalid value encountered in true_divide\n",
      "  explained_variance_ratio_ = explained_variance_ / total_var\n",
      "Info Red: 0.00e+00:   0%|                              | 0/1000 [00:00<?, ?it/s]/Users/surbhirathore/.local/lib/python3.7/site-packages/sklearn/decomposition/_pca.py:501: RuntimeWarning: invalid value encountered in true_divide\n",
      "  explained_variance_ratio_ = explained_variance_ / total_var\n",
      "Info Red: 0.00e+00:   0%|                              | 0/1000 [00:00<?, ?it/s]/Users/surbhirathore/.local/lib/python3.7/site-packages/sklearn/decomposition/_pca.py:501: RuntimeWarning: invalid value encountered in true_divide\n",
      "  explained_variance_ratio_ = explained_variance_ / total_var\n",
      "Info Red: 0.00e+00:   0%|                              | 0/1000 [00:00<?, ?it/s]/Users/surbhirathore/.local/lib/python3.7/site-packages/sklearn/decomposition/_pca.py:501: RuntimeWarning: invalid value encountered in true_divide\n",
      "  explained_variance_ratio_ = explained_variance_ / total_var\n",
      "Info Red: 0.00e+00:   0%|                              | 0/1000 [00:00<?, ?it/s]/Users/surbhirathore/.local/lib/python3.7/site-packages/sklearn/decomposition/_pca.py:501: RuntimeWarning: invalid value encountered in true_divide\n",
      "  explained_variance_ratio_ = explained_variance_ / total_var\n",
      "Info Red: 0.00e+00:   0%|                              | 0/1000 [00:00<?, ?it/s]/Users/surbhirathore/.local/lib/python3.7/site-packages/sklearn/decomposition/_pca.py:501: RuntimeWarning: invalid value encountered in true_divide\n",
      "  explained_variance_ratio_ = explained_variance_ / total_var\n",
      "Info Red: 0.00e+00:   0%|                              | 0/1000 [00:00<?, ?it/s]/Users/surbhirathore/.local/lib/python3.7/site-packages/sklearn/decomposition/_pca.py:501: RuntimeWarning: invalid value encountered in true_divide\n",
      "  explained_variance_ratio_ = explained_variance_ / total_var\n",
      "Info Red: 0.00e+00:   0%|                              | 0/1000 [00:00<?, ?it/s]/Users/surbhirathore/.local/lib/python3.7/site-packages/sklearn/decomposition/_pca.py:501: RuntimeWarning: invalid value encountered in true_divide\n",
      "  explained_variance_ratio_ = explained_variance_ / total_var\n",
      "Info Red: 0.00e+00:   1%|▏                    | 10/1000 [00:00<00:10, 91.80it/s]/Users/surbhirathore/.local/lib/python3.7/site-packages/sklearn/decomposition/_pca.py:501: RuntimeWarning: invalid value encountered in true_divide\n",
      "  explained_variance_ratio_ = explained_variance_ / total_var\n",
      "Info Red: 0.00e+00:   1%|▏                    | 10/1000 [00:00<00:10, 91.80it/s]/Users/surbhirathore/.local/lib/python3.7/site-packages/sklearn/decomposition/_pca.py:501: RuntimeWarning: invalid value encountered in true_divide\n",
      "  explained_variance_ratio_ = explained_variance_ / total_var\n",
      "Info Red: 0.00e+00:   1%|▏                    | 10/1000 [00:00<00:10, 91.80it/s]/Users/surbhirathore/.local/lib/python3.7/site-packages/sklearn/decomposition/_pca.py:501: RuntimeWarning: invalid value encountered in true_divide\n",
      "  explained_variance_ratio_ = explained_variance_ / total_var\n",
      "Info Red: 0.00e+00:   1%|▏                    | 10/1000 [00:00<00:10, 91.80it/s]/Users/surbhirathore/.local/lib/python3.7/site-packages/sklearn/decomposition/_pca.py:501: RuntimeWarning: invalid value encountered in true_divide\n",
      "  explained_variance_ratio_ = explained_variance_ / total_var\n",
      "Info Red: 0.00e+00:   1%|▏                    | 10/1000 [00:00<00:10, 91.80it/s]/Users/surbhirathore/.local/lib/python3.7/site-packages/sklearn/decomposition/_pca.py:501: RuntimeWarning: invalid value encountered in true_divide\n",
      "  explained_variance_ratio_ = explained_variance_ / total_var\n",
      "Info Red: 0.00e+00:   1%|▏                    | 10/1000 [00:00<00:10, 91.80it/s]/Users/surbhirathore/.local/lib/python3.7/site-packages/sklearn/decomposition/_pca.py:501: RuntimeWarning: invalid value encountered in true_divide\n",
      "  explained_variance_ratio_ = explained_variance_ / total_var\n",
      "Info Red: 0.00e+00:   1%|▏                    | 10/1000 [00:00<00:10, 91.80it/s]/Users/surbhirathore/.local/lib/python3.7/site-packages/sklearn/decomposition/_pca.py:501: RuntimeWarning: invalid value encountered in true_divide\n",
      "  explained_variance_ratio_ = explained_variance_ / total_var\n",
      "Info Red: 0.00e+00:   1%|▏                    | 10/1000 [00:00<00:10, 91.80it/s]/Users/surbhirathore/.local/lib/python3.7/site-packages/sklearn/decomposition/_pca.py:501: RuntimeWarning: invalid value encountered in true_divide\n",
      "  explained_variance_ratio_ = explained_variance_ / total_var\n",
      "Info Red: 0.00e+00:   1%|▏                    | 10/1000 [00:00<00:10, 91.80it/s]/Users/surbhirathore/.local/lib/python3.7/site-packages/sklearn/decomposition/_pca.py:501: RuntimeWarning: invalid value encountered in true_divide\n",
      "  explained_variance_ratio_ = explained_variance_ / total_var\n",
      "Info Red: 0.00e+00:   1%|▏                    | 10/1000 [00:00<00:10, 91.80it/s]/Users/surbhirathore/.local/lib/python3.7/site-packages/sklearn/decomposition/_pca.py:501: RuntimeWarning: invalid value encountered in true_divide\n",
      "  explained_variance_ratio_ = explained_variance_ / total_var\n",
      "Info Red: 0.00e+00:   2%|▍                    | 20/1000 [00:00<00:10, 93.83it/s]/Users/surbhirathore/.local/lib/python3.7/site-packages/sklearn/decomposition/_pca.py:501: RuntimeWarning: invalid value encountered in true_divide\n",
      "  explained_variance_ratio_ = explained_variance_ / total_var\n",
      "Info Red: 0.00e+00:   2%|▍                    | 20/1000 [00:00<00:10, 93.83it/s]/Users/surbhirathore/.local/lib/python3.7/site-packages/sklearn/decomposition/_pca.py:501: RuntimeWarning: invalid value encountered in true_divide\n",
      "  explained_variance_ratio_ = explained_variance_ / total_var\n",
      "Info Red: 0.00e+00:   2%|▍                    | 20/1000 [00:00<00:10, 93.83it/s]/Users/surbhirathore/.local/lib/python3.7/site-packages/sklearn/decomposition/_pca.py:501: RuntimeWarning: invalid value encountered in true_divide\n",
      "  explained_variance_ratio_ = explained_variance_ / total_var\n",
      "Info Red: 0.00e+00:   2%|▍                    | 20/1000 [00:00<00:10, 93.83it/s]/Users/surbhirathore/.local/lib/python3.7/site-packages/sklearn/decomposition/_pca.py:501: RuntimeWarning: invalid value encountered in true_divide\n",
      "  explained_variance_ratio_ = explained_variance_ / total_var\n",
      "Info Red: 0.00e+00:   2%|▍                    | 20/1000 [00:00<00:10, 93.83it/s]/Users/surbhirathore/.local/lib/python3.7/site-packages/sklearn/decomposition/_pca.py:501: RuntimeWarning: invalid value encountered in true_divide\n",
      "  explained_variance_ratio_ = explained_variance_ / total_var\n",
      "Info Red: 0.00e+00:   2%|▍                    | 20/1000 [00:00<00:10, 93.83it/s]/Users/surbhirathore/.local/lib/python3.7/site-packages/sklearn/decomposition/_pca.py:501: RuntimeWarning: invalid value encountered in true_divide\n",
      "  explained_variance_ratio_ = explained_variance_ / total_var\n",
      "Info Red: 0.00e+00:   2%|▍                    | 20/1000 [00:00<00:10, 93.83it/s]/Users/surbhirathore/.local/lib/python3.7/site-packages/sklearn/decomposition/_pca.py:501: RuntimeWarning: invalid value encountered in true_divide\n",
      "  explained_variance_ratio_ = explained_variance_ / total_var\n",
      "Info Red: 0.00e+00:   2%|▍                    | 20/1000 [00:00<00:10, 93.83it/s]/Users/surbhirathore/.local/lib/python3.7/site-packages/sklearn/decomposition/_pca.py:501: RuntimeWarning: invalid value encountered in true_divide\n",
      "  explained_variance_ratio_ = explained_variance_ / total_var\n",
      "Info Red: 0.00e+00:   2%|▍                    | 20/1000 [00:00<00:10, 93.83it/s]/Users/surbhirathore/.local/lib/python3.7/site-packages/sklearn/decomposition/_pca.py:501: RuntimeWarning: invalid value encountered in true_divide\n",
      "  explained_variance_ratio_ = explained_variance_ / total_var\n"
     ]
    },
    {
     "name": "stderr",
     "output_type": "stream",
     "text": [
      "Info Red: 0.00e+00:   2%|▍                    | 20/1000 [00:00<00:10, 93.83it/s]/Users/surbhirathore/.local/lib/python3.7/site-packages/sklearn/decomposition/_pca.py:501: RuntimeWarning: invalid value encountered in true_divide\n",
      "  explained_variance_ratio_ = explained_variance_ / total_var\n",
      "Info Red: 0.00e+00:   3%|▋                    | 30/1000 [00:00<00:10, 94.04it/s]/Users/surbhirathore/.local/lib/python3.7/site-packages/sklearn/decomposition/_pca.py:501: RuntimeWarning: invalid value encountered in true_divide\n",
      "  explained_variance_ratio_ = explained_variance_ / total_var\n",
      "Info Red: 0.00e+00:   3%|▋                    | 30/1000 [00:00<00:10, 94.04it/s]/Users/surbhirathore/.local/lib/python3.7/site-packages/sklearn/decomposition/_pca.py:501: RuntimeWarning: invalid value encountered in true_divide\n",
      "  explained_variance_ratio_ = explained_variance_ / total_var\n",
      "Info Red: 0.00e+00:   3%|▋                    | 30/1000 [00:00<00:10, 94.04it/s]/Users/surbhirathore/.local/lib/python3.7/site-packages/sklearn/decomposition/_pca.py:501: RuntimeWarning: invalid value encountered in true_divide\n",
      "  explained_variance_ratio_ = explained_variance_ / total_var\n",
      "Info Red: 0.00e+00:   3%|▋                    | 30/1000 [00:00<00:10, 94.04it/s]/Users/surbhirathore/.local/lib/python3.7/site-packages/sklearn/decomposition/_pca.py:501: RuntimeWarning: invalid value encountered in true_divide\n",
      "  explained_variance_ratio_ = explained_variance_ / total_var\n",
      "Info Red: 0.00e+00:   3%|▋                    | 30/1000 [00:00<00:10, 94.04it/s]/Users/surbhirathore/.local/lib/python3.7/site-packages/sklearn/decomposition/_pca.py:501: RuntimeWarning: invalid value encountered in true_divide\n",
      "  explained_variance_ratio_ = explained_variance_ / total_var\n",
      "Info Red: 0.00e+00:   3%|▋                    | 30/1000 [00:00<00:10, 94.04it/s]/Users/surbhirathore/.local/lib/python3.7/site-packages/sklearn/decomposition/_pca.py:501: RuntimeWarning: invalid value encountered in true_divide\n",
      "  explained_variance_ratio_ = explained_variance_ / total_var\n",
      "Info Red: 0.00e+00:   3%|▋                    | 30/1000 [00:00<00:10, 94.04it/s]/Users/surbhirathore/.local/lib/python3.7/site-packages/sklearn/decomposition/_pca.py:501: RuntimeWarning: invalid value encountered in true_divide\n",
      "  explained_variance_ratio_ = explained_variance_ / total_var\n",
      "Info Red: 0.00e+00:   3%|▋                    | 30/1000 [00:00<00:10, 94.04it/s]/Users/surbhirathore/.local/lib/python3.7/site-packages/sklearn/decomposition/_pca.py:501: RuntimeWarning: invalid value encountered in true_divide\n",
      "  explained_variance_ratio_ = explained_variance_ / total_var\n",
      "Info Red: 0.00e+00:   3%|▋                    | 30/1000 [00:00<00:10, 94.04it/s]/Users/surbhirathore/.local/lib/python3.7/site-packages/sklearn/decomposition/_pca.py:501: RuntimeWarning: invalid value encountered in true_divide\n",
      "  explained_variance_ratio_ = explained_variance_ / total_var\n",
      "Info Red: 0.00e+00:   3%|▋                    | 30/1000 [00:00<00:10, 94.04it/s]/Users/surbhirathore/.local/lib/python3.7/site-packages/sklearn/decomposition/_pca.py:501: RuntimeWarning: invalid value encountered in true_divide\n",
      "  explained_variance_ratio_ = explained_variance_ / total_var\n",
      "Info Red: 0.00e+00:   4%|▊                    | 40/1000 [00:00<00:10, 94.27it/s]/Users/surbhirathore/.local/lib/python3.7/site-packages/sklearn/decomposition/_pca.py:501: RuntimeWarning: invalid value encountered in true_divide\n",
      "  explained_variance_ratio_ = explained_variance_ / total_var\n",
      "Info Red: 0.00e+00:   4%|▊                    | 40/1000 [00:00<00:10, 94.27it/s]/Users/surbhirathore/.local/lib/python3.7/site-packages/sklearn/decomposition/_pca.py:501: RuntimeWarning: invalid value encountered in true_divide\n",
      "  explained_variance_ratio_ = explained_variance_ / total_var\n",
      "Completed! (Total Info Red: 2.2598):   4%|▏   | 41/1000 [00:00<00:10, 91.78it/s]\n",
      "Info Red: 0.00e+00: 100%|███████████████████| 1000/1000 [01:50<00:00,  9.01it/s]\n",
      "Info Red: 0.00e+00: 100%|███████████████████| 1000/1000 [01:40<00:00,  9.90it/s]\n",
      "Info Red: 9.11e-01:   0%|                              | 0/1000 [00:00<?, ?it/s]/Users/surbhirathore/.local/lib/python3.7/site-packages/sklearn/decomposition/_pca.py:501: RuntimeWarning: invalid value encountered in true_divide\n",
      "  explained_variance_ratio_ = explained_variance_ / total_var\n",
      "Info Red: 0.00e+00:   0%|                              | 0/1000 [00:00<?, ?it/s]/Users/surbhirathore/.local/lib/python3.7/site-packages/sklearn/decomposition/_pca.py:501: RuntimeWarning: invalid value encountered in true_divide\n",
      "  explained_variance_ratio_ = explained_variance_ / total_var\n",
      "Info Red: 0.00e+00:   0%|                              | 0/1000 [00:00<?, ?it/s]/Users/surbhirathore/.local/lib/python3.7/site-packages/sklearn/decomposition/_pca.py:501: RuntimeWarning: invalid value encountered in true_divide\n",
      "  explained_variance_ratio_ = explained_variance_ / total_var\n",
      "Info Red: 0.00e+00:   0%|                              | 0/1000 [00:00<?, ?it/s]/Users/surbhirathore/.local/lib/python3.7/site-packages/sklearn/decomposition/_pca.py:501: RuntimeWarning: invalid value encountered in true_divide\n",
      "  explained_variance_ratio_ = explained_variance_ / total_var\n",
      "Info Red: 0.00e+00:   0%|                              | 0/1000 [00:00<?, ?it/s]/Users/surbhirathore/.local/lib/python3.7/site-packages/sklearn/decomposition/_pca.py:501: RuntimeWarning: invalid value encountered in true_divide\n",
      "  explained_variance_ratio_ = explained_variance_ / total_var\n",
      "Info Red: 0.00e+00:   0%|                              | 0/1000 [00:00<?, ?it/s]/Users/surbhirathore/.local/lib/python3.7/site-packages/sklearn/decomposition/_pca.py:501: RuntimeWarning: invalid value encountered in true_divide\n",
      "  explained_variance_ratio_ = explained_variance_ / total_var\n",
      "Info Red: 0.00e+00:   0%|                              | 0/1000 [00:00<?, ?it/s]/Users/surbhirathore/.local/lib/python3.7/site-packages/sklearn/decomposition/_pca.py:501: RuntimeWarning: invalid value encountered in true_divide\n",
      "  explained_variance_ratio_ = explained_variance_ / total_var\n",
      "Info Red: 0.00e+00:   0%|                              | 0/1000 [00:00<?, ?it/s]/Users/surbhirathore/.local/lib/python3.7/site-packages/sklearn/decomposition/_pca.py:501: RuntimeWarning: invalid value encountered in true_divide\n",
      "  explained_variance_ratio_ = explained_variance_ / total_var\n",
      "Info Red: 0.00e+00:   1%|▏                     | 9/1000 [00:00<00:11, 88.39it/s]/Users/surbhirathore/.local/lib/python3.7/site-packages/sklearn/decomposition/_pca.py:501: RuntimeWarning: invalid value encountered in true_divide\n",
      "  explained_variance_ratio_ = explained_variance_ / total_var\n",
      "Info Red: 0.00e+00:   1%|▏                     | 9/1000 [00:00<00:11, 88.39it/s]/Users/surbhirathore/.local/lib/python3.7/site-packages/sklearn/decomposition/_pca.py:501: RuntimeWarning: invalid value encountered in true_divide\n",
      "  explained_variance_ratio_ = explained_variance_ / total_var\n",
      "Info Red: 0.00e+00:   1%|▏                     | 9/1000 [00:00<00:11, 88.39it/s]/Users/surbhirathore/.local/lib/python3.7/site-packages/sklearn/decomposition/_pca.py:501: RuntimeWarning: invalid value encountered in true_divide\n",
      "  explained_variance_ratio_ = explained_variance_ / total_var\n",
      "Info Red: 0.00e+00:   1%|▏                     | 9/1000 [00:00<00:11, 88.39it/s]/Users/surbhirathore/.local/lib/python3.7/site-packages/sklearn/decomposition/_pca.py:501: RuntimeWarning: invalid value encountered in true_divide\n",
      "  explained_variance_ratio_ = explained_variance_ / total_var\n",
      "Info Red: 0.00e+00:   1%|▏                     | 9/1000 [00:00<00:11, 88.39it/s]/Users/surbhirathore/.local/lib/python3.7/site-packages/sklearn/decomposition/_pca.py:501: RuntimeWarning: invalid value encountered in true_divide\n",
      "  explained_variance_ratio_ = explained_variance_ / total_var\n",
      "Info Red: 0.00e+00:   1%|▏                     | 9/1000 [00:00<00:11, 88.39it/s]/Users/surbhirathore/.local/lib/python3.7/site-packages/sklearn/decomposition/_pca.py:501: RuntimeWarning: invalid value encountered in true_divide\n",
      "  explained_variance_ratio_ = explained_variance_ / total_var\n",
      "Info Red: 0.00e+00:   1%|▏                     | 9/1000 [00:00<00:11, 88.39it/s]/Users/surbhirathore/.local/lib/python3.7/site-packages/sklearn/decomposition/_pca.py:501: RuntimeWarning: invalid value encountered in true_divide\n",
      "  explained_variance_ratio_ = explained_variance_ / total_var\n"
     ]
    },
    {
     "name": "stderr",
     "output_type": "stream",
     "text": [
      "Info Red: 0.00e+00:   1%|▏                     | 9/1000 [00:00<00:11, 88.39it/s]/Users/surbhirathore/.local/lib/python3.7/site-packages/sklearn/decomposition/_pca.py:501: RuntimeWarning: invalid value encountered in true_divide\n",
      "  explained_variance_ratio_ = explained_variance_ / total_var\n",
      "Info Red: 0.00e+00:   1%|▏                     | 9/1000 [00:00<00:11, 88.39it/s]/Users/surbhirathore/.local/lib/python3.7/site-packages/sklearn/decomposition/_pca.py:501: RuntimeWarning: invalid value encountered in true_divide\n",
      "  explained_variance_ratio_ = explained_variance_ / total_var\n",
      "Info Red: 0.00e+00:   1%|▏                     | 9/1000 [00:00<00:11, 88.39it/s]/Users/surbhirathore/.local/lib/python3.7/site-packages/sklearn/decomposition/_pca.py:501: RuntimeWarning: invalid value encountered in true_divide\n",
      "  explained_variance_ratio_ = explained_variance_ / total_var\n",
      "Info Red: 0.00e+00:   2%|▍                    | 19/1000 [00:00<00:10, 94.89it/s]/Users/surbhirathore/.local/lib/python3.7/site-packages/sklearn/decomposition/_pca.py:501: RuntimeWarning: invalid value encountered in true_divide\n",
      "  explained_variance_ratio_ = explained_variance_ / total_var\n",
      "Info Red: 0.00e+00:   2%|▍                    | 19/1000 [00:00<00:10, 94.89it/s]/Users/surbhirathore/.local/lib/python3.7/site-packages/sklearn/decomposition/_pca.py:501: RuntimeWarning: invalid value encountered in true_divide\n",
      "  explained_variance_ratio_ = explained_variance_ / total_var\n",
      "Info Red: 0.00e+00:   2%|▍                    | 19/1000 [00:00<00:10, 94.89it/s]/Users/surbhirathore/.local/lib/python3.7/site-packages/sklearn/decomposition/_pca.py:501: RuntimeWarning: invalid value encountered in true_divide\n",
      "  explained_variance_ratio_ = explained_variance_ / total_var\n",
      "Info Red: 0.00e+00:   2%|▍                    | 19/1000 [00:00<00:10, 94.89it/s]/Users/surbhirathore/.local/lib/python3.7/site-packages/sklearn/decomposition/_pca.py:501: RuntimeWarning: invalid value encountered in true_divide\n",
      "  explained_variance_ratio_ = explained_variance_ / total_var\n",
      "Info Red: 0.00e+00:   2%|▍                    | 19/1000 [00:00<00:10, 94.89it/s]/Users/surbhirathore/.local/lib/python3.7/site-packages/sklearn/decomposition/_pca.py:501: RuntimeWarning: invalid value encountered in true_divide\n",
      "  explained_variance_ratio_ = explained_variance_ / total_var\n",
      "Info Red: 0.00e+00:   2%|▍                    | 19/1000 [00:00<00:10, 94.89it/s]/Users/surbhirathore/.local/lib/python3.7/site-packages/sklearn/decomposition/_pca.py:501: RuntimeWarning: invalid value encountered in true_divide\n",
      "  explained_variance_ratio_ = explained_variance_ / total_var\n",
      "Info Red: 0.00e+00:   2%|▍                    | 19/1000 [00:00<00:10, 94.89it/s]/Users/surbhirathore/.local/lib/python3.7/site-packages/sklearn/decomposition/_pca.py:501: RuntimeWarning: invalid value encountered in true_divide\n",
      "  explained_variance_ratio_ = explained_variance_ / total_var\n",
      "Info Red: 0.00e+00:   2%|▍                    | 19/1000 [00:00<00:10, 94.89it/s]/Users/surbhirathore/.local/lib/python3.7/site-packages/sklearn/decomposition/_pca.py:501: RuntimeWarning: invalid value encountered in true_divide\n",
      "  explained_variance_ratio_ = explained_variance_ / total_var\n",
      "Info Red: 0.00e+00:   2%|▍                    | 19/1000 [00:00<00:10, 94.89it/s]/Users/surbhirathore/.local/lib/python3.7/site-packages/sklearn/decomposition/_pca.py:501: RuntimeWarning: invalid value encountered in true_divide\n",
      "  explained_variance_ratio_ = explained_variance_ / total_var\n",
      "Info Red: 0.00e+00:   2%|▍                    | 19/1000 [00:00<00:10, 94.89it/s]/Users/surbhirathore/.local/lib/python3.7/site-packages/sklearn/decomposition/_pca.py:501: RuntimeWarning: invalid value encountered in true_divide\n",
      "  explained_variance_ratio_ = explained_variance_ / total_var\n",
      "Info Red: 0.00e+00:   2%|▍                    | 19/1000 [00:00<00:10, 94.89it/s]/Users/surbhirathore/.local/lib/python3.7/site-packages/sklearn/decomposition/_pca.py:501: RuntimeWarning: invalid value encountered in true_divide\n",
      "  explained_variance_ratio_ = explained_variance_ / total_var\n",
      "Info Red: 0.00e+00:   3%|▋                    | 30/1000 [00:00<00:09, 97.85it/s]/Users/surbhirathore/.local/lib/python3.7/site-packages/sklearn/decomposition/_pca.py:501: RuntimeWarning: invalid value encountered in true_divide\n",
      "  explained_variance_ratio_ = explained_variance_ / total_var\n",
      "Info Red: 0.00e+00:   3%|▋                    | 30/1000 [00:00<00:09, 97.85it/s]/Users/surbhirathore/.local/lib/python3.7/site-packages/sklearn/decomposition/_pca.py:501: RuntimeWarning: invalid value encountered in true_divide\n",
      "  explained_variance_ratio_ = explained_variance_ / total_var\n",
      "Info Red: 0.00e+00:   3%|▋                    | 30/1000 [00:00<00:09, 97.85it/s]/Users/surbhirathore/.local/lib/python3.7/site-packages/sklearn/decomposition/_pca.py:501: RuntimeWarning: invalid value encountered in true_divide\n",
      "  explained_variance_ratio_ = explained_variance_ / total_var\n",
      "Info Red: 0.00e+00:   3%|▋                    | 30/1000 [00:00<00:09, 97.85it/s]/Users/surbhirathore/.local/lib/python3.7/site-packages/sklearn/decomposition/_pca.py:501: RuntimeWarning: invalid value encountered in true_divide\n",
      "  explained_variance_ratio_ = explained_variance_ / total_var\n",
      "Info Red: 0.00e+00:   3%|▋                    | 30/1000 [00:00<00:09, 97.85it/s]/Users/surbhirathore/.local/lib/python3.7/site-packages/sklearn/decomposition/_pca.py:501: RuntimeWarning: invalid value encountered in true_divide\n",
      "  explained_variance_ratio_ = explained_variance_ / total_var\n",
      "Info Red: 0.00e+00:   3%|▋                    | 30/1000 [00:00<00:09, 97.85it/s]/Users/surbhirathore/.local/lib/python3.7/site-packages/sklearn/decomposition/_pca.py:501: RuntimeWarning: invalid value encountered in true_divide\n",
      "  explained_variance_ratio_ = explained_variance_ / total_var\n",
      "Info Red: 0.00e+00:   3%|▋                    | 30/1000 [00:00<00:09, 97.85it/s]/Users/surbhirathore/.local/lib/python3.7/site-packages/sklearn/decomposition/_pca.py:501: RuntimeWarning: invalid value encountered in true_divide\n",
      "  explained_variance_ratio_ = explained_variance_ / total_var\n",
      "Info Red: 0.00e+00:   3%|▋                    | 30/1000 [00:00<00:09, 97.85it/s]/Users/surbhirathore/.local/lib/python3.7/site-packages/sklearn/decomposition/_pca.py:501: RuntimeWarning: invalid value encountered in true_divide\n",
      "  explained_variance_ratio_ = explained_variance_ / total_var\n",
      "Info Red: 0.00e+00:   3%|▋                    | 30/1000 [00:00<00:09, 97.85it/s]/Users/surbhirathore/.local/lib/python3.7/site-packages/sklearn/decomposition/_pca.py:501: RuntimeWarning: invalid value encountered in true_divide\n",
      "  explained_variance_ratio_ = explained_variance_ / total_var\n",
      "Info Red: 0.00e+00:   3%|▋                    | 30/1000 [00:00<00:09, 97.85it/s]/Users/surbhirathore/.local/lib/python3.7/site-packages/sklearn/decomposition/_pca.py:501: RuntimeWarning: invalid value encountered in true_divide\n",
      "  explained_variance_ratio_ = explained_variance_ / total_var\n",
      "Info Red: 0.00e+00:   4%|▊                    | 40/1000 [00:00<00:09, 97.94it/s]/Users/surbhirathore/.local/lib/python3.7/site-packages/sklearn/decomposition/_pca.py:501: RuntimeWarning: invalid value encountered in true_divide\n",
      "  explained_variance_ratio_ = explained_variance_ / total_var\n",
      "Info Red: 0.00e+00:   4%|▊                    | 40/1000 [00:00<00:09, 97.94it/s]/Users/surbhirathore/.local/lib/python3.7/site-packages/sklearn/decomposition/_pca.py:501: RuntimeWarning: invalid value encountered in true_divide\n",
      "  explained_variance_ratio_ = explained_variance_ / total_var\n",
      "Completed! (Total Info Red: 0.9111):   4%|▏   | 41/1000 [00:00<00:10, 94.50it/s]\n",
      "Info Red: 0.00e+00: 100%|███████████████████| 1000/1000 [01:51<00:00,  8.96it/s]\n",
      "Info Red: 0.00e+00: 100%|███████████████████| 1000/1000 [01:41<00:00,  9.90it/s]\n",
      "Info Red: 0.00e+00: 100%|███████████████████| 1000/1000 [00:14<00:00, 69.34it/s]\n",
      "Completed! (Total Info Red: 0.5311):  10%|▎  | 104/1000 [00:12<01:44,  8.57it/s]\n",
      "Info Red: 0.00e+00: 100%|███████████████████| 1000/1000 [01:41<00:00,  9.88it/s]\n",
      "Info Red: 9.34e-01:   0%|                              | 0/1000 [00:00<?, ?it/s]/Users/surbhirathore/.local/lib/python3.7/site-packages/sklearn/decomposition/_pca.py:501: RuntimeWarning: invalid value encountered in true_divide\n",
      "  explained_variance_ratio_ = explained_variance_ / total_var\n"
     ]
    },
    {
     "name": "stderr",
     "output_type": "stream",
     "text": [
      "Info Red: 0.00e+00:   0%|                              | 0/1000 [00:00<?, ?it/s]/Users/surbhirathore/.local/lib/python3.7/site-packages/sklearn/decomposition/_pca.py:501: RuntimeWarning: invalid value encountered in true_divide\n",
      "  explained_variance_ratio_ = explained_variance_ / total_var\n",
      "Info Red: 0.00e+00:   0%|                              | 0/1000 [00:00<?, ?it/s]/Users/surbhirathore/.local/lib/python3.7/site-packages/sklearn/decomposition/_pca.py:501: RuntimeWarning: invalid value encountered in true_divide\n",
      "  explained_variance_ratio_ = explained_variance_ / total_var\n",
      "Info Red: 0.00e+00:   0%|                              | 0/1000 [00:00<?, ?it/s]/Users/surbhirathore/.local/lib/python3.7/site-packages/sklearn/decomposition/_pca.py:501: RuntimeWarning: invalid value encountered in true_divide\n",
      "  explained_variance_ratio_ = explained_variance_ / total_var\n",
      "Info Red: 0.00e+00:   0%|                              | 0/1000 [00:00<?, ?it/s]/Users/surbhirathore/.local/lib/python3.7/site-packages/sklearn/decomposition/_pca.py:501: RuntimeWarning: invalid value encountered in true_divide\n",
      "  explained_variance_ratio_ = explained_variance_ / total_var\n",
      "Info Red: 0.00e+00:   0%|                              | 0/1000 [00:00<?, ?it/s]/Users/surbhirathore/.local/lib/python3.7/site-packages/sklearn/decomposition/_pca.py:501: RuntimeWarning: invalid value encountered in true_divide\n",
      "  explained_variance_ratio_ = explained_variance_ / total_var\n",
      "Info Red: 0.00e+00:   0%|                              | 0/1000 [00:00<?, ?it/s]/Users/surbhirathore/.local/lib/python3.7/site-packages/sklearn/decomposition/_pca.py:501: RuntimeWarning: invalid value encountered in true_divide\n",
      "  explained_variance_ratio_ = explained_variance_ / total_var\n",
      "Info Red: 0.00e+00:   0%|                              | 0/1000 [00:00<?, ?it/s]/Users/surbhirathore/.local/lib/python3.7/site-packages/sklearn/decomposition/_pca.py:501: RuntimeWarning: invalid value encountered in true_divide\n",
      "  explained_variance_ratio_ = explained_variance_ / total_var\n",
      "Info Red: 0.00e+00:   0%|                              | 0/1000 [00:00<?, ?it/s]/Users/surbhirathore/.local/lib/python3.7/site-packages/sklearn/decomposition/_pca.py:501: RuntimeWarning: invalid value encountered in true_divide\n",
      "  explained_variance_ratio_ = explained_variance_ / total_var\n",
      "Info Red: 0.00e+00:   1%|▏                    | 10/1000 [00:00<00:10, 95.98it/s]/Users/surbhirathore/.local/lib/python3.7/site-packages/sklearn/decomposition/_pca.py:501: RuntimeWarning: invalid value encountered in true_divide\n",
      "  explained_variance_ratio_ = explained_variance_ / total_var\n",
      "Info Red: 0.00e+00:   1%|▏                    | 10/1000 [00:00<00:10, 95.98it/s]/Users/surbhirathore/.local/lib/python3.7/site-packages/sklearn/decomposition/_pca.py:501: RuntimeWarning: invalid value encountered in true_divide\n",
      "  explained_variance_ratio_ = explained_variance_ / total_var\n",
      "Info Red: 0.00e+00:   1%|▏                    | 10/1000 [00:00<00:10, 95.98it/s]/Users/surbhirathore/.local/lib/python3.7/site-packages/sklearn/decomposition/_pca.py:501: RuntimeWarning: invalid value encountered in true_divide\n",
      "  explained_variance_ratio_ = explained_variance_ / total_var\n",
      "Info Red: 0.00e+00:   1%|▏                    | 10/1000 [00:00<00:10, 95.98it/s]/Users/surbhirathore/.local/lib/python3.7/site-packages/sklearn/decomposition/_pca.py:501: RuntimeWarning: invalid value encountered in true_divide\n",
      "  explained_variance_ratio_ = explained_variance_ / total_var\n",
      "Info Red: 0.00e+00:   1%|▏                    | 10/1000 [00:00<00:10, 95.98it/s]/Users/surbhirathore/.local/lib/python3.7/site-packages/sklearn/decomposition/_pca.py:501: RuntimeWarning: invalid value encountered in true_divide\n",
      "  explained_variance_ratio_ = explained_variance_ / total_var\n",
      "Info Red: 0.00e+00:   1%|▏                    | 10/1000 [00:00<00:10, 95.98it/s]/Users/surbhirathore/.local/lib/python3.7/site-packages/sklearn/decomposition/_pca.py:501: RuntimeWarning: invalid value encountered in true_divide\n",
      "  explained_variance_ratio_ = explained_variance_ / total_var\n",
      "Info Red: 0.00e+00:   1%|▏                    | 10/1000 [00:00<00:10, 95.98it/s]/Users/surbhirathore/.local/lib/python3.7/site-packages/sklearn/decomposition/_pca.py:501: RuntimeWarning: invalid value encountered in true_divide\n",
      "  explained_variance_ratio_ = explained_variance_ / total_var\n",
      "Info Red: 0.00e+00:   1%|▏                    | 10/1000 [00:00<00:10, 95.98it/s]/Users/surbhirathore/.local/lib/python3.7/site-packages/sklearn/decomposition/_pca.py:501: RuntimeWarning: invalid value encountered in true_divide\n",
      "  explained_variance_ratio_ = explained_variance_ / total_var\n",
      "Info Red: 0.00e+00:   1%|▏                    | 10/1000 [00:00<00:10, 95.98it/s]/Users/surbhirathore/.local/lib/python3.7/site-packages/sklearn/decomposition/_pca.py:501: RuntimeWarning: invalid value encountered in true_divide\n",
      "  explained_variance_ratio_ = explained_variance_ / total_var\n",
      "Info Red: 0.00e+00:   1%|▏                    | 10/1000 [00:00<00:10, 95.98it/s]/Users/surbhirathore/.local/lib/python3.7/site-packages/sklearn/decomposition/_pca.py:501: RuntimeWarning: invalid value encountered in true_divide\n",
      "  explained_variance_ratio_ = explained_variance_ / total_var\n",
      "Info Red: 0.00e+00:   2%|▍                    | 20/1000 [00:00<00:10, 92.62it/s]/Users/surbhirathore/.local/lib/python3.7/site-packages/sklearn/decomposition/_pca.py:501: RuntimeWarning: invalid value encountered in true_divide\n",
      "  explained_variance_ratio_ = explained_variance_ / total_var\n",
      "Info Red: 0.00e+00:   2%|▍                    | 20/1000 [00:00<00:10, 92.62it/s]/Users/surbhirathore/.local/lib/python3.7/site-packages/sklearn/decomposition/_pca.py:501: RuntimeWarning: invalid value encountered in true_divide\n",
      "  explained_variance_ratio_ = explained_variance_ / total_var\n",
      "Info Red: 0.00e+00:   2%|▍                    | 20/1000 [00:00<00:10, 92.62it/s]/Users/surbhirathore/.local/lib/python3.7/site-packages/sklearn/decomposition/_pca.py:501: RuntimeWarning: invalid value encountered in true_divide\n",
      "  explained_variance_ratio_ = explained_variance_ / total_var\n",
      "Info Red: 0.00e+00:   2%|▍                    | 20/1000 [00:00<00:10, 92.62it/s]/Users/surbhirathore/.local/lib/python3.7/site-packages/sklearn/decomposition/_pca.py:501: RuntimeWarning: invalid value encountered in true_divide\n",
      "  explained_variance_ratio_ = explained_variance_ / total_var\n",
      "Info Red: 0.00e+00:   2%|▍                    | 20/1000 [00:00<00:10, 92.62it/s]/Users/surbhirathore/.local/lib/python3.7/site-packages/sklearn/decomposition/_pca.py:501: RuntimeWarning: invalid value encountered in true_divide\n",
      "  explained_variance_ratio_ = explained_variance_ / total_var\n",
      "Info Red: 0.00e+00:   2%|▍                    | 20/1000 [00:00<00:10, 92.62it/s]/Users/surbhirathore/.local/lib/python3.7/site-packages/sklearn/decomposition/_pca.py:501: RuntimeWarning: invalid value encountered in true_divide\n",
      "  explained_variance_ratio_ = explained_variance_ / total_var\n",
      "Info Red: 0.00e+00:   2%|▍                    | 20/1000 [00:00<00:10, 92.62it/s]/Users/surbhirathore/.local/lib/python3.7/site-packages/sklearn/decomposition/_pca.py:501: RuntimeWarning: invalid value encountered in true_divide\n",
      "  explained_variance_ratio_ = explained_variance_ / total_var\n",
      "Info Red: 0.00e+00:   2%|▍                    | 20/1000 [00:00<00:10, 92.62it/s]/Users/surbhirathore/.local/lib/python3.7/site-packages/sklearn/decomposition/_pca.py:501: RuntimeWarning: invalid value encountered in true_divide\n",
      "  explained_variance_ratio_ = explained_variance_ / total_var\n",
      "Info Red: 0.00e+00:   2%|▍                    | 20/1000 [00:00<00:10, 92.62it/s]/Users/surbhirathore/.local/lib/python3.7/site-packages/sklearn/decomposition/_pca.py:501: RuntimeWarning: invalid value encountered in true_divide\n",
      "  explained_variance_ratio_ = explained_variance_ / total_var\n",
      "Info Red: 0.00e+00:   2%|▍                    | 20/1000 [00:00<00:10, 92.62it/s]/Users/surbhirathore/.local/lib/python3.7/site-packages/sklearn/decomposition/_pca.py:501: RuntimeWarning: invalid value encountered in true_divide\n",
      "  explained_variance_ratio_ = explained_variance_ / total_var\n"
     ]
    },
    {
     "name": "stderr",
     "output_type": "stream",
     "text": [
      "Info Red: 0.00e+00:   3%|▋                    | 30/1000 [00:00<00:10, 94.17it/s]/Users/surbhirathore/.local/lib/python3.7/site-packages/sklearn/decomposition/_pca.py:501: RuntimeWarning: invalid value encountered in true_divide\n",
      "  explained_variance_ratio_ = explained_variance_ / total_var\n",
      "Info Red: 0.00e+00:   3%|▋                    | 30/1000 [00:00<00:10, 94.17it/s]/Users/surbhirathore/.local/lib/python3.7/site-packages/sklearn/decomposition/_pca.py:501: RuntimeWarning: invalid value encountered in true_divide\n",
      "  explained_variance_ratio_ = explained_variance_ / total_var\n",
      "Info Red: 0.00e+00:   3%|▋                    | 30/1000 [00:00<00:10, 94.17it/s]/Users/surbhirathore/.local/lib/python3.7/site-packages/sklearn/decomposition/_pca.py:501: RuntimeWarning: invalid value encountered in true_divide\n",
      "  explained_variance_ratio_ = explained_variance_ / total_var\n",
      "Info Red: 0.00e+00:   3%|▋                    | 30/1000 [00:00<00:10, 94.17it/s]/Users/surbhirathore/.local/lib/python3.7/site-packages/sklearn/decomposition/_pca.py:501: RuntimeWarning: invalid value encountered in true_divide\n",
      "  explained_variance_ratio_ = explained_variance_ / total_var\n",
      "Info Red: 0.00e+00:   3%|▋                    | 30/1000 [00:00<00:10, 94.17it/s]/Users/surbhirathore/.local/lib/python3.7/site-packages/sklearn/decomposition/_pca.py:501: RuntimeWarning: invalid value encountered in true_divide\n",
      "  explained_variance_ratio_ = explained_variance_ / total_var\n",
      "Info Red: 0.00e+00:   3%|▋                    | 30/1000 [00:00<00:10, 94.17it/s]/Users/surbhirathore/.local/lib/python3.7/site-packages/sklearn/decomposition/_pca.py:501: RuntimeWarning: invalid value encountered in true_divide\n",
      "  explained_variance_ratio_ = explained_variance_ / total_var\n",
      "Info Red: 0.00e+00:   3%|▋                    | 30/1000 [00:00<00:10, 94.17it/s]/Users/surbhirathore/.local/lib/python3.7/site-packages/sklearn/decomposition/_pca.py:501: RuntimeWarning: invalid value encountered in true_divide\n",
      "  explained_variance_ratio_ = explained_variance_ / total_var\n",
      "Info Red: 0.00e+00:   3%|▋                    | 30/1000 [00:00<00:10, 94.17it/s]/Users/surbhirathore/.local/lib/python3.7/site-packages/sklearn/decomposition/_pca.py:501: RuntimeWarning: invalid value encountered in true_divide\n",
      "  explained_variance_ratio_ = explained_variance_ / total_var\n",
      "Info Red: 0.00e+00:   3%|▋                    | 30/1000 [00:00<00:10, 94.17it/s]/Users/surbhirathore/.local/lib/python3.7/site-packages/sklearn/decomposition/_pca.py:501: RuntimeWarning: invalid value encountered in true_divide\n",
      "  explained_variance_ratio_ = explained_variance_ / total_var\n",
      "Info Red: 0.00e+00:   3%|▋                    | 30/1000 [00:00<00:10, 94.17it/s]/Users/surbhirathore/.local/lib/python3.7/site-packages/sklearn/decomposition/_pca.py:501: RuntimeWarning: invalid value encountered in true_divide\n",
      "  explained_variance_ratio_ = explained_variance_ / total_var\n",
      "Info Red: 0.00e+00:   3%|▋                    | 30/1000 [00:00<00:10, 94.17it/s]/Users/surbhirathore/.local/lib/python3.7/site-packages/sklearn/decomposition/_pca.py:501: RuntimeWarning: invalid value encountered in true_divide\n",
      "  explained_variance_ratio_ = explained_variance_ / total_var\n",
      "Info Red: 0.00e+00:   4%|▊                    | 41/1000 [00:00<00:09, 96.57it/s]/Users/surbhirathore/.local/lib/python3.7/site-packages/sklearn/decomposition/_pca.py:501: RuntimeWarning: invalid value encountered in true_divide\n",
      "  explained_variance_ratio_ = explained_variance_ / total_var\n",
      "Completed! (Total Info Red: 0.9339):   4%|▏   | 41/1000 [00:00<00:10, 93.35it/s]\n",
      "Info Red: 0.00e+00: 100%|███████████████████| 1000/1000 [01:50<00:00,  9.02it/s]\n"
     ]
    },
    {
     "data": {
      "text/html": [
       "<div>\n",
       "<style scoped>\n",
       "    .dataframe tbody tr th:only-of-type {\n",
       "        vertical-align: middle;\n",
       "    }\n",
       "\n",
       "    .dataframe tbody tr th {\n",
       "        vertical-align: top;\n",
       "    }\n",
       "\n",
       "    .dataframe thead th {\n",
       "        text-align: right;\n",
       "    }\n",
       "</style>\n",
       "<table border=\"1\" class=\"dataframe\">\n",
       "  <thead>\n",
       "    <tr style=\"text-align: right;\">\n",
       "      <th></th>\n",
       "      <th>A</th>\n",
       "      <th>I(Xi,A)</th>\n",
       "    </tr>\n",
       "  </thead>\n",
       "  <tbody>\n",
       "    <tr>\n",
       "      <th>0</th>\n",
       "      <td>sex</td>\n",
       "      <td>3.658593</td>\n",
       "    </tr>\n",
       "    <tr>\n",
       "      <th>1</th>\n",
       "      <td>race</td>\n",
       "      <td>3.658593</td>\n",
       "    </tr>\n",
       "    <tr>\n",
       "      <th>2</th>\n",
       "      <td>age</td>\n",
       "      <td>0.531108</td>\n",
       "    </tr>\n",
       "    <tr>\n",
       "      <th>3</th>\n",
       "      <td>marital-status</td>\n",
       "      <td>3.658593</td>\n",
       "    </tr>\n",
       "  </tbody>\n",
       "</table>\n",
       "</div>"
      ],
      "text/plain": [
       "                A   I(Xi,A)\n",
       "0             sex  3.658593\n",
       "1            race  3.658593\n",
       "2             age  0.531108\n",
       "3  marital-status  3.658593"
      ]
     },
     "execution_count": 117,
     "metadata": {},
     "output_type": "execute_result"
    }
   ],
   "source": [
    "rbig_mi_xa = calculate_miscore_xa(features_encoded_data,X,A)\n",
    "rbig_mi_xa"
   ]
  },
  {
   "cell_type": "code",
   "execution_count": 118,
   "id": "d4872b28",
   "metadata": {},
   "outputs": [
    {
     "data": {
      "text/html": [
       "<div>\n",
       "<style scoped>\n",
       "    .dataframe tbody tr th:only-of-type {\n",
       "        vertical-align: middle;\n",
       "    }\n",
       "\n",
       "    .dataframe tbody tr th {\n",
       "        vertical-align: top;\n",
       "    }\n",
       "\n",
       "    .dataframe thead th {\n",
       "        text-align: right;\n",
       "    }\n",
       "</style>\n",
       "<table border=\"1\" class=\"dataframe\">\n",
       "  <thead>\n",
       "    <tr style=\"text-align: right;\">\n",
       "      <th></th>\n",
       "      <th>A</th>\n",
       "      <th>I(X,A)_rbig</th>\n",
       "      <th>I(X,Y)_rbig</th>\n",
       "    </tr>\n",
       "  </thead>\n",
       "  <tbody>\n",
       "    <tr>\n",
       "      <th>0</th>\n",
       "      <td>sex</td>\n",
       "      <td>3.658593</td>\n",
       "      <td>4.470253</td>\n",
       "    </tr>\n",
       "    <tr>\n",
       "      <th>1</th>\n",
       "      <td>race</td>\n",
       "      <td>3.658593</td>\n",
       "      <td>4.470253</td>\n",
       "    </tr>\n",
       "    <tr>\n",
       "      <th>2</th>\n",
       "      <td>age</td>\n",
       "      <td>0.531108</td>\n",
       "      <td>4.470253</td>\n",
       "    </tr>\n",
       "    <tr>\n",
       "      <th>3</th>\n",
       "      <td>marital-status</td>\n",
       "      <td>3.658593</td>\n",
       "      <td>4.470253</td>\n",
       "    </tr>\n",
       "  </tbody>\n",
       "</table>\n",
       "</div>"
      ],
      "text/plain": [
       "                A  I(X,A)_rbig  I(X,Y)_rbig\n",
       "0             sex     3.658593     4.470253\n",
       "1            race     3.658593     4.470253\n",
       "2             age     0.531108     4.470253\n",
       "3  marital-status     3.658593     4.470253"
      ]
     },
     "execution_count": 118,
     "metadata": {},
     "output_type": "execute_result"
    }
   ],
   "source": [
    "rbig_mi_xa['I(Xi,Y)'] = 4.470253284179309\n",
    "mi_xy_xa_rbig = rbig_mi_xa\n",
    "mi_xy_xa_rbig.columns = ['A','I(X,A)_rbig','I(X,Y)_rbig']\n",
    "mi_xy_xa_rbig"
   ]
  },
  {
   "cell_type": "markdown",
   "id": "f9e6e63e",
   "metadata": {},
   "source": [
    "# Merged Table"
   ]
  },
  {
   "cell_type": "code",
   "execution_count": 119,
   "id": "a87a3337",
   "metadata": {},
   "outputs": [],
   "source": [
    "def merged_mi(data1,data2):\n",
    "    merged_mi = pd.merge(data1,data2, on=['A'], how = 'inner') \n",
    "    return merged_mi"
   ]
  },
  {
   "cell_type": "code",
   "execution_count": 120,
   "id": "073fd2a8",
   "metadata": {},
   "outputs": [
    {
     "data": {
      "text/html": [
       "<div>\n",
       "<style scoped>\n",
       "    .dataframe tbody tr th:only-of-type {\n",
       "        vertical-align: middle;\n",
       "    }\n",
       "\n",
       "    .dataframe tbody tr th {\n",
       "        vertical-align: top;\n",
       "    }\n",
       "\n",
       "    .dataframe thead th {\n",
       "        text-align: right;\n",
       "    }\n",
       "</style>\n",
       "<table border=\"1\" class=\"dataframe\">\n",
       "  <thead>\n",
       "    <tr style=\"text-align: right;\">\n",
       "      <th></th>\n",
       "      <th>A</th>\n",
       "      <th>I(X,A)_hist</th>\n",
       "      <th>I(X,Y)_hist</th>\n",
       "      <th>I(X,A)_rbig</th>\n",
       "      <th>I(X,Y)_rbig</th>\n",
       "    </tr>\n",
       "  </thead>\n",
       "  <tbody>\n",
       "    <tr>\n",
       "      <th>0</th>\n",
       "      <td>sex</td>\n",
       "      <td>0.397488</td>\n",
       "      <td>0.290872</td>\n",
       "      <td>3.658593</td>\n",
       "      <td>4.470253</td>\n",
       "    </tr>\n",
       "    <tr>\n",
       "      <th>1</th>\n",
       "      <td>race</td>\n",
       "      <td>0.179103</td>\n",
       "      <td>0.290872</td>\n",
       "      <td>3.658593</td>\n",
       "      <td>4.470253</td>\n",
       "    </tr>\n",
       "    <tr>\n",
       "      <th>2</th>\n",
       "      <td>age</td>\n",
       "      <td>0.413741</td>\n",
       "      <td>0.290872</td>\n",
       "      <td>0.531108</td>\n",
       "      <td>4.470253</td>\n",
       "    </tr>\n",
       "    <tr>\n",
       "      <th>3</th>\n",
       "      <td>marital-status</td>\n",
       "      <td>0.891120</td>\n",
       "      <td>0.290872</td>\n",
       "      <td>3.658593</td>\n",
       "      <td>4.470253</td>\n",
       "    </tr>\n",
       "  </tbody>\n",
       "</table>\n",
       "</div>"
      ],
      "text/plain": [
       "                A  I(X,A)_hist  I(X,Y)_hist  I(X,A)_rbig  I(X,Y)_rbig\n",
       "0             sex     0.397488     0.290872     3.658593     4.470253\n",
       "1            race     0.179103     0.290872     3.658593     4.470253\n",
       "2             age     0.413741     0.290872     0.531108     4.470253\n",
       "3  marital-status     0.891120     0.290872     3.658593     4.470253"
      ]
     },
     "execution_count": 120,
     "metadata": {},
     "output_type": "execute_result"
    }
   ],
   "source": [
    "merged_mi_hist_rbig = merged_mi(mi_xy_xa_hist,mi_xy_xa_rbig)\n",
    "merged_mi_hist_rbig"
   ]
  },
  {
   "cell_type": "code",
   "execution_count": 121,
   "id": "4d946f3f",
   "metadata": {},
   "outputs": [],
   "source": [
    "adult_dataset = pd.read_csv('adult_dataset.csv')\n",
    "adult_dataset.drop('Unnamed: 0', axis = 1, inplace = True)"
   ]
  },
  {
   "cell_type": "code",
   "execution_count": 122,
   "id": "2aa18119",
   "metadata": {},
   "outputs": [],
   "source": [
    "ad = adult_dataset[['sex','race','age','marital-status']].nunique().reset_index()"
   ]
  },
  {
   "cell_type": "code",
   "execution_count": 123,
   "id": "6dcd6d13",
   "metadata": {},
   "outputs": [
    {
     "data": {
      "text/html": [
       "<div>\n",
       "<style scoped>\n",
       "    .dataframe tbody tr th:only-of-type {\n",
       "        vertical-align: middle;\n",
       "    }\n",
       "\n",
       "    .dataframe tbody tr th {\n",
       "        vertical-align: top;\n",
       "    }\n",
       "\n",
       "    .dataframe thead th {\n",
       "        text-align: right;\n",
       "    }\n",
       "</style>\n",
       "<table border=\"1\" class=\"dataframe\">\n",
       "  <thead>\n",
       "    <tr style=\"text-align: right;\">\n",
       "      <th></th>\n",
       "      <th>A</th>\n",
       "      <th>unique_vals</th>\n",
       "    </tr>\n",
       "  </thead>\n",
       "  <tbody>\n",
       "    <tr>\n",
       "      <th>0</th>\n",
       "      <td>sex</td>\n",
       "      <td>2</td>\n",
       "    </tr>\n",
       "    <tr>\n",
       "      <th>1</th>\n",
       "      <td>race</td>\n",
       "      <td>5</td>\n",
       "    </tr>\n",
       "    <tr>\n",
       "      <th>2</th>\n",
       "      <td>age</td>\n",
       "      <td>74</td>\n",
       "    </tr>\n",
       "    <tr>\n",
       "      <th>3</th>\n",
       "      <td>marital-status</td>\n",
       "      <td>7</td>\n",
       "    </tr>\n",
       "  </tbody>\n",
       "</table>\n",
       "</div>"
      ],
      "text/plain": [
       "                A  unique_vals\n",
       "0             sex            2\n",
       "1            race            5\n",
       "2             age           74\n",
       "3  marital-status            7"
      ]
     },
     "execution_count": 123,
     "metadata": {},
     "output_type": "execute_result"
    }
   ],
   "source": [
    "ad.columns = ['A','unique_vals']\n",
    "ad"
   ]
  },
  {
   "cell_type": "code",
   "execution_count": 124,
   "id": "0a12cbd7",
   "metadata": {},
   "outputs": [
    {
     "data": {
      "text/html": [
       "<div>\n",
       "<style scoped>\n",
       "    .dataframe tbody tr th:only-of-type {\n",
       "        vertical-align: middle;\n",
       "    }\n",
       "\n",
       "    .dataframe tbody tr th {\n",
       "        vertical-align: top;\n",
       "    }\n",
       "\n",
       "    .dataframe thead th {\n",
       "        text-align: right;\n",
       "    }\n",
       "</style>\n",
       "<table border=\"1\" class=\"dataframe\">\n",
       "  <thead>\n",
       "    <tr style=\"text-align: right;\">\n",
       "      <th></th>\n",
       "      <th>A</th>\n",
       "      <th>I(X,A)_hist</th>\n",
       "      <th>I(X,Y)_hist</th>\n",
       "      <th>I(X,A)_rbig</th>\n",
       "      <th>I(X,Y)_rbig</th>\n",
       "      <th>unique_vals</th>\n",
       "    </tr>\n",
       "  </thead>\n",
       "  <tbody>\n",
       "    <tr>\n",
       "      <th>0</th>\n",
       "      <td>sex</td>\n",
       "      <td>0.397488</td>\n",
       "      <td>0.290872</td>\n",
       "      <td>3.658593</td>\n",
       "      <td>4.470253</td>\n",
       "      <td>2</td>\n",
       "    </tr>\n",
       "    <tr>\n",
       "      <th>1</th>\n",
       "      <td>race</td>\n",
       "      <td>0.179103</td>\n",
       "      <td>0.290872</td>\n",
       "      <td>3.658593</td>\n",
       "      <td>4.470253</td>\n",
       "      <td>5</td>\n",
       "    </tr>\n",
       "    <tr>\n",
       "      <th>2</th>\n",
       "      <td>age</td>\n",
       "      <td>0.413741</td>\n",
       "      <td>0.290872</td>\n",
       "      <td>0.531108</td>\n",
       "      <td>4.470253</td>\n",
       "      <td>74</td>\n",
       "    </tr>\n",
       "    <tr>\n",
       "      <th>3</th>\n",
       "      <td>marital-status</td>\n",
       "      <td>0.891120</td>\n",
       "      <td>0.290872</td>\n",
       "      <td>3.658593</td>\n",
       "      <td>4.470253</td>\n",
       "      <td>7</td>\n",
       "    </tr>\n",
       "  </tbody>\n",
       "</table>\n",
       "</div>"
      ],
      "text/plain": [
       "                A  I(X,A)_hist  I(X,Y)_hist  I(X,A)_rbig  I(X,Y)_rbig  \\\n",
       "0             sex     0.397488     0.290872     3.658593     4.470253   \n",
       "1            race     0.179103     0.290872     3.658593     4.470253   \n",
       "2             age     0.413741     0.290872     0.531108     4.470253   \n",
       "3  marital-status     0.891120     0.290872     3.658593     4.470253   \n",
       "\n",
       "   unique_vals  \n",
       "0            2  \n",
       "1            5  \n",
       "2           74  \n",
       "3            7  "
      ]
     },
     "execution_count": 124,
     "metadata": {},
     "output_type": "execute_result"
    }
   ],
   "source": [
    "merged_mi_hist_rbig = merged_mi(merged_mi_hist_rbig,ad)\n",
    "merged_mi_hist_rbig"
   ]
  },
  {
   "cell_type": "code",
   "execution_count": null,
   "id": "2bf2c5fb",
   "metadata": {},
   "outputs": [],
   "source": []
  }
 ],
 "metadata": {
  "kernelspec": {
   "display_name": "Python 3 (ipykernel)",
   "language": "python",
   "name": "python3"
  },
  "language_info": {
   "codemirror_mode": {
    "name": "ipython",
    "version": 3
   },
   "file_extension": ".py",
   "mimetype": "text/x-python",
   "name": "python",
   "nbconvert_exporter": "python",
   "pygments_lexer": "ipython3",
   "version": "3.7.13"
  }
 },
 "nbformat": 4,
 "nbformat_minor": 5
}
